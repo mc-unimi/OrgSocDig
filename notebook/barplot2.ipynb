{
 "cells": [
  {
   "cell_type": "markdown",
   "id": "c85c7176-4bbe-4461-b3b5-64712526bf17",
   "metadata": {},
   "source": [
    "## Seaborn: bar chart ##"
   ]
  },
  {
   "cell_type": "markdown",
   "id": "a4611757-0e4d-49f3-9769-3a875b6c384f",
   "metadata": {},
   "source": [
    "Procediamo analogamente al caso precedente dello scatterplot."
   ]
  },
  {
   "cell_type": "code",
   "execution_count": 1,
   "id": "492344ce-0a85-49a6-a3ad-4ac1cb489738",
   "metadata": {},
   "outputs": [],
   "source": [
    "# librerie\n",
    "import pandas as pd\n",
    "import matplotlib.pyplot as plt\n",
    "import seaborn as sns"
   ]
  },
  {
   "cell_type": "markdown",
   "id": "2b43d606-761b-440b-9f20-4a924ec0708e",
   "metadata": {},
   "source": [
    "**lettura del datatset dagli Open Data del Comune di Milano**"
   ]
  },
  {
   "cell_type": "code",
   "execution_count": 130,
   "id": "3582d7f4-083a-4dd4-bfb3-337778e250c8",
   "metadata": {},
   "outputs": [
    {
     "data": {
      "text/html": [
       "<div>\n",
       "<style scoped>\n",
       "    .dataframe tbody tr th:only-of-type {\n",
       "        vertical-align: middle;\n",
       "    }\n",
       "\n",
       "    .dataframe tbody tr th {\n",
       "        vertical-align: top;\n",
       "    }\n",
       "\n",
       "    .dataframe thead th {\n",
       "        text-align: right;\n",
       "    }\n",
       "</style>\n",
       "<table border=\"1\" class=\"dataframe\">\n",
       "  <thead>\n",
       "    <tr style=\"text-align: right;\">\n",
       "      <th></th>\n",
       "      <th>stazione_id</th>\n",
       "      <th>data</th>\n",
       "      <th>inquinante</th>\n",
       "      <th>valore</th>\n",
       "    </tr>\n",
       "  </thead>\n",
       "  <tbody>\n",
       "    <tr>\n",
       "      <th>0</th>\n",
       "      <td>1</td>\n",
       "      <td>2022-09-30</td>\n",
       "      <td>NO2</td>\n",
       "      <td>NaN</td>\n",
       "    </tr>\n",
       "    <tr>\n",
       "      <th>1</th>\n",
       "      <td>2</td>\n",
       "      <td>2022-09-30</td>\n",
       "      <td>C6H6</td>\n",
       "      <td>1.8</td>\n",
       "    </tr>\n",
       "    <tr>\n",
       "      <th>2</th>\n",
       "      <td>2</td>\n",
       "      <td>2022-09-30</td>\n",
       "      <td>NO2</td>\n",
       "      <td>47.0</td>\n",
       "    </tr>\n",
       "    <tr>\n",
       "      <th>3</th>\n",
       "      <td>2</td>\n",
       "      <td>2022-09-30</td>\n",
       "      <td>O3</td>\n",
       "      <td>63.0</td>\n",
       "    </tr>\n",
       "    <tr>\n",
       "      <th>4</th>\n",
       "      <td>2</td>\n",
       "      <td>2022-09-30</td>\n",
       "      <td>PM10</td>\n",
       "      <td>21.0</td>\n",
       "    </tr>\n",
       "    <tr>\n",
       "      <th>...</th>\n",
       "      <td>...</td>\n",
       "      <td>...</td>\n",
       "      <td>...</td>\n",
       "      <td>...</td>\n",
       "    </tr>\n",
       "    <tr>\n",
       "      <th>4859</th>\n",
       "      <td>7</td>\n",
       "      <td>2022-01-03</td>\n",
       "      <td>O3</td>\n",
       "      <td>11.0</td>\n",
       "    </tr>\n",
       "    <tr>\n",
       "      <th>4860</th>\n",
       "      <td>7</td>\n",
       "      <td>2022-01-03</td>\n",
       "      <td>PM10</td>\n",
       "      <td>57.0</td>\n",
       "    </tr>\n",
       "    <tr>\n",
       "      <th>4861</th>\n",
       "      <td>8</td>\n",
       "      <td>2022-01-03</td>\n",
       "      <td>C6H6</td>\n",
       "      <td>NaN</td>\n",
       "    </tr>\n",
       "    <tr>\n",
       "      <th>4862</th>\n",
       "      <td>8</td>\n",
       "      <td>2022-01-03</td>\n",
       "      <td>CO_8h</td>\n",
       "      <td>NaN</td>\n",
       "    </tr>\n",
       "    <tr>\n",
       "      <th>4863</th>\n",
       "      <td>8</td>\n",
       "      <td>2022-01-03</td>\n",
       "      <td>NO2</td>\n",
       "      <td>NaN</td>\n",
       "    </tr>\n",
       "  </tbody>\n",
       "</table>\n",
       "<p>4864 rows × 4 columns</p>\n",
       "</div>"
      ],
      "text/plain": [
       "      stazione_id        data inquinante  valore\n",
       "0               1  2022-09-30        NO2     NaN\n",
       "1               2  2022-09-30       C6H6     1.8\n",
       "2               2  2022-09-30        NO2    47.0\n",
       "3               2  2022-09-30         O3    63.0\n",
       "4               2  2022-09-30       PM10    21.0\n",
       "...           ...         ...        ...     ...\n",
       "4859            7  2022-01-03         O3    11.0\n",
       "4860            7  2022-01-03       PM10    57.0\n",
       "4861            8  2022-01-03       C6H6     NaN\n",
       "4862            8  2022-01-03      CO_8h     NaN\n",
       "4863            8  2022-01-03        NO2     NaN\n",
       "\n",
       "[4864 rows x 4 columns]"
      ]
     },
     "execution_count": 130,
     "metadata": {},
     "output_type": "execute_result"
    }
   ],
   "source": [
    "#lettura del dataset\n",
    "df_py=pd.read_csv(\"datasets/comune_milano/qaria_datoariagiornostazione_2022-10-01.csv\", \n",
    "    sep=\";\")\n",
    "df_py"
   ]
  },
  {
   "cell_type": "markdown",
   "id": "4bd2c9d8-3f2c-4f2a-b23b-6d1758e04502",
   "metadata": {},
   "source": [
    "**verifica del tipo di dati e conversione**"
   ]
  },
  {
   "cell_type": "code",
   "execution_count": 131,
   "id": "ca5baae7-549a-4a15-99f9-eb6fd1344895",
   "metadata": {},
   "outputs": [
    {
     "data": {
      "text/plain": [
       "stazione_id      int64\n",
       "data            object\n",
       "inquinante      object\n",
       "valore         float64\n",
       "dtype: object"
      ]
     },
     "execution_count": 131,
     "metadata": {},
     "output_type": "execute_result"
    }
   ],
   "source": [
    "df_py.dtypes"
   ]
  },
  {
   "cell_type": "markdown",
   "id": "36f5119c-9445-4f5f-bde0-ba6a67353e21",
   "metadata": {},
   "source": [
    "A differenza di R (readr), pandas ha interpretato correttamente i valori della colonna `valore` definendola come numerica.<br>\n",
    "Anche in questo caso il formato della colonna `data` va convertito in `datetime`.<br>\n",
    "Usiamo il formato esplicito, molto semplice."
   ]
  },
  {
   "cell_type": "code",
   "execution_count": 132,
   "id": "f287935f-23e2-49c9-9448-ab0248dee68a",
   "metadata": {},
   "outputs": [],
   "source": [
    "df_py[\"data\"]=pd.to_datetime(df_py[\"data\"], format=\"%Y-%m-%d\")"
   ]
  },
  {
   "cell_type": "code",
   "execution_count": 133,
   "id": "4aca4809-080d-410e-b93d-ce4c870b4473",
   "metadata": {},
   "outputs": [
    {
     "data": {
      "text/plain": [
       "stazione_id             int64\n",
       "data           datetime64[ns]\n",
       "inquinante             object\n",
       "valore                float64\n",
       "dtype: object"
      ]
     },
     "execution_count": 133,
     "metadata": {},
     "output_type": "execute_result"
    }
   ],
   "source": [
    "df_py.dtypes"
   ]
  },
  {
   "cell_type": "markdown",
   "id": "5796f97e-a13a-4dde-acd4-649030b698fd",
   "metadata": {},
   "source": [
    "## Valori mancanti"
   ]
  },
  {
   "cell_type": "markdown",
   "id": "b705b6b7-5ac2-453c-a924-a7f73d04f3de",
   "metadata": {},
   "source": [
    "Controlliamo i **valori mancanti**. Ne esistono parecchi nella colonna `valore`. "
   ]
  },
  {
   "cell_type": "code",
   "execution_count": 62,
   "id": "5f5e3ffe-7f13-454f-aee1-fb3d6ba1fecf",
   "metadata": {
    "tags": []
   },
   "outputs": [
    {
     "data": {
      "text/html": [
       "<div>\n",
       "<style scoped>\n",
       "    .dataframe tbody tr th:only-of-type {\n",
       "        vertical-align: middle;\n",
       "    }\n",
       "\n",
       "    .dataframe tbody tr th {\n",
       "        vertical-align: top;\n",
       "    }\n",
       "\n",
       "    .dataframe thead th {\n",
       "        text-align: right;\n",
       "    }\n",
       "</style>\n",
       "<table border=\"1\" class=\"dataframe\">\n",
       "  <thead>\n",
       "    <tr style=\"text-align: right;\">\n",
       "      <th></th>\n",
       "      <th>stazione_id</th>\n",
       "      <th>data</th>\n",
       "      <th>inquinante</th>\n",
       "      <th>valore</th>\n",
       "    </tr>\n",
       "  </thead>\n",
       "  <tbody>\n",
       "    <tr>\n",
       "      <th>0</th>\n",
       "      <td>1</td>\n",
       "      <td>2022-09-30</td>\n",
       "      <td>NO2</td>\n",
       "      <td>NaN</td>\n",
       "    </tr>\n",
       "    <tr>\n",
       "      <th>14</th>\n",
       "      <td>5</td>\n",
       "      <td>2022-09-30</td>\n",
       "      <td>NO2</td>\n",
       "      <td>NaN</td>\n",
       "    </tr>\n",
       "    <tr>\n",
       "      <th>15</th>\n",
       "      <td>5</td>\n",
       "      <td>2022-09-30</td>\n",
       "      <td>O3</td>\n",
       "      <td>NaN</td>\n",
       "    </tr>\n",
       "    <tr>\n",
       "      <th>24</th>\n",
       "      <td>8</td>\n",
       "      <td>2022-09-30</td>\n",
       "      <td>C6H6</td>\n",
       "      <td>NaN</td>\n",
       "    </tr>\n",
       "    <tr>\n",
       "      <th>25</th>\n",
       "      <td>8</td>\n",
       "      <td>2022-09-30</td>\n",
       "      <td>CO_8h</td>\n",
       "      <td>NaN</td>\n",
       "    </tr>\n",
       "    <tr>\n",
       "      <th>...</th>\n",
       "      <td>...</td>\n",
       "      <td>...</td>\n",
       "      <td>...</td>\n",
       "      <td>...</td>\n",
       "    </tr>\n",
       "    <tr>\n",
       "      <th>4851</th>\n",
       "      <td>5</td>\n",
       "      <td>2022-01-03</td>\n",
       "      <td>NO2</td>\n",
       "      <td>NaN</td>\n",
       "    </tr>\n",
       "    <tr>\n",
       "      <th>4852</th>\n",
       "      <td>5</td>\n",
       "      <td>2022-01-03</td>\n",
       "      <td>O3</td>\n",
       "      <td>NaN</td>\n",
       "    </tr>\n",
       "    <tr>\n",
       "      <th>4861</th>\n",
       "      <td>8</td>\n",
       "      <td>2022-01-03</td>\n",
       "      <td>C6H6</td>\n",
       "      <td>NaN</td>\n",
       "    </tr>\n",
       "    <tr>\n",
       "      <th>4862</th>\n",
       "      <td>8</td>\n",
       "      <td>2022-01-03</td>\n",
       "      <td>CO_8h</td>\n",
       "      <td>NaN</td>\n",
       "    </tr>\n",
       "    <tr>\n",
       "      <th>4863</th>\n",
       "      <td>8</td>\n",
       "      <td>2022-01-03</td>\n",
       "      <td>NO2</td>\n",
       "      <td>NaN</td>\n",
       "    </tr>\n",
       "  </tbody>\n",
       "</table>\n",
       "<p>1420 rows × 4 columns</p>\n",
       "</div>"
      ],
      "text/plain": [
       "      stazione_id       data inquinante  valore\n",
       "0               1 2022-09-30        NO2     NaN\n",
       "14              5 2022-09-30        NO2     NaN\n",
       "15              5 2022-09-30         O3     NaN\n",
       "24              8 2022-09-30       C6H6     NaN\n",
       "25              8 2022-09-30      CO_8h     NaN\n",
       "...           ...        ...        ...     ...\n",
       "4851            5 2022-01-03        NO2     NaN\n",
       "4852            5 2022-01-03         O3     NaN\n",
       "4861            8 2022-01-03       C6H6     NaN\n",
       "4862            8 2022-01-03      CO_8h     NaN\n",
       "4863            8 2022-01-03        NO2     NaN\n",
       "\n",
       "[1420 rows x 4 columns]"
      ]
     },
     "execution_count": 62,
     "metadata": {},
     "output_type": "execute_result"
    }
   ],
   "source": [
    "#valori mancanti\n",
    "df_py[df_py.isna().any(axis=1)]"
   ]
  },
  {
   "cell_type": "markdown",
   "id": "2238585a-dab4-4f34-ac50-1185f46e63c7",
   "metadata": {},
   "source": [
    "Escludiamo le righe con valori mancanti, non ci servono."
   ]
  },
  {
   "cell_type": "code",
   "execution_count": 63,
   "id": "13cb9f75-1be0-4f66-a45b-f956634c3871",
   "metadata": {},
   "outputs": [
    {
     "data": {
      "text/html": [
       "<div>\n",
       "<style scoped>\n",
       "    .dataframe tbody tr th:only-of-type {\n",
       "        vertical-align: middle;\n",
       "    }\n",
       "\n",
       "    .dataframe tbody tr th {\n",
       "        vertical-align: top;\n",
       "    }\n",
       "\n",
       "    .dataframe thead th {\n",
       "        text-align: right;\n",
       "    }\n",
       "</style>\n",
       "<table border=\"1\" class=\"dataframe\">\n",
       "  <thead>\n",
       "    <tr style=\"text-align: right;\">\n",
       "      <th></th>\n",
       "      <th>stazione_id</th>\n",
       "      <th>data</th>\n",
       "      <th>inquinante</th>\n",
       "      <th>valore</th>\n",
       "    </tr>\n",
       "  </thead>\n",
       "  <tbody>\n",
       "    <tr>\n",
       "      <th>1</th>\n",
       "      <td>2</td>\n",
       "      <td>2022-09-30</td>\n",
       "      <td>C6H6</td>\n",
       "      <td>1.8</td>\n",
       "    </tr>\n",
       "    <tr>\n",
       "      <th>2</th>\n",
       "      <td>2</td>\n",
       "      <td>2022-09-30</td>\n",
       "      <td>NO2</td>\n",
       "      <td>47.0</td>\n",
       "    </tr>\n",
       "    <tr>\n",
       "      <th>3</th>\n",
       "      <td>2</td>\n",
       "      <td>2022-09-30</td>\n",
       "      <td>O3</td>\n",
       "      <td>63.0</td>\n",
       "    </tr>\n",
       "    <tr>\n",
       "      <th>4</th>\n",
       "      <td>2</td>\n",
       "      <td>2022-09-30</td>\n",
       "      <td>PM10</td>\n",
       "      <td>21.0</td>\n",
       "    </tr>\n",
       "    <tr>\n",
       "      <th>5</th>\n",
       "      <td>2</td>\n",
       "      <td>2022-09-30</td>\n",
       "      <td>PM25</td>\n",
       "      <td>11.0</td>\n",
       "    </tr>\n",
       "    <tr>\n",
       "      <th>...</th>\n",
       "      <td>...</td>\n",
       "      <td>...</td>\n",
       "      <td>...</td>\n",
       "      <td>...</td>\n",
       "    </tr>\n",
       "    <tr>\n",
       "      <th>4856</th>\n",
       "      <td>6</td>\n",
       "      <td>2022-01-03</td>\n",
       "      <td>PM10</td>\n",
       "      <td>77.0</td>\n",
       "    </tr>\n",
       "    <tr>\n",
       "      <th>4857</th>\n",
       "      <td>6</td>\n",
       "      <td>2022-01-03</td>\n",
       "      <td>PM25</td>\n",
       "      <td>66.0</td>\n",
       "    </tr>\n",
       "    <tr>\n",
       "      <th>4858</th>\n",
       "      <td>7</td>\n",
       "      <td>2022-01-03</td>\n",
       "      <td>NO2</td>\n",
       "      <td>71.0</td>\n",
       "    </tr>\n",
       "    <tr>\n",
       "      <th>4859</th>\n",
       "      <td>7</td>\n",
       "      <td>2022-01-03</td>\n",
       "      <td>O3</td>\n",
       "      <td>11.0</td>\n",
       "    </tr>\n",
       "    <tr>\n",
       "      <th>4860</th>\n",
       "      <td>7</td>\n",
       "      <td>2022-01-03</td>\n",
       "      <td>PM10</td>\n",
       "      <td>57.0</td>\n",
       "    </tr>\n",
       "  </tbody>\n",
       "</table>\n",
       "<p>3444 rows × 4 columns</p>\n",
       "</div>"
      ],
      "text/plain": [
       "      stazione_id       data inquinante  valore\n",
       "1               2 2022-09-30       C6H6     1.8\n",
       "2               2 2022-09-30        NO2    47.0\n",
       "3               2 2022-09-30         O3    63.0\n",
       "4               2 2022-09-30       PM10    21.0\n",
       "5               2 2022-09-30       PM25    11.0\n",
       "...           ...        ...        ...     ...\n",
       "4856            6 2022-01-03       PM10    77.0\n",
       "4857            6 2022-01-03       PM25    66.0\n",
       "4858            7 2022-01-03        NO2    71.0\n",
       "4859            7 2022-01-03         O3    11.0\n",
       "4860            7 2022-01-03       PM10    57.0\n",
       "\n",
       "[3444 rows x 4 columns]"
      ]
     },
     "execution_count": 63,
     "metadata": {},
     "output_type": "execute_result"
    }
   ],
   "source": [
    "df_py=df_py[~df_py.isna().any(axis=1)]\n",
    "df_py"
   ]
  },
  {
   "cell_type": "markdown",
   "id": "044903f3-e77b-4859-a41a-d690dff971f8",
   "metadata": {},
   "source": [
    "## Operazioni su gruppi e indice: `groupby()`"
   ]
  },
  {
   "cell_type": "markdown",
   "id": "94e729b3-67b5-466b-aa8e-8eb380a469db",
   "metadata": {},
   "source": [
    "Come nel caso precedente di ggplot2, vogliamo mostrare per ogni valore della variabile categorica `inquinante` il totale di prodotto inquinante (somma di `valore`, asse `y`), su tutto il periodo della rilevazione.<br>\n",
    "Vediamo come usare i gruppi in Python. Esiste la corrispondente funzione `groupby()` di pandas che segue la stessa logica della `group_by()` di R: definisce gruppi rispetto ai valori di una o più variabili e applica una o più operazioni a tali gruppi. <br>\n",
    "Cambia la sintassi e soprattutto con Python abbiamo la gestione esplicita dell'**indice** creato dalla `groupby()`, eventualmente su più livelli (*multiindex*)."
   ]
  },
  {
   "cell_type": "markdown",
   "id": "9e2f98b6-2fa2-43cb-b020-ef12b220ff57",
   "metadata": {},
   "source": [
    "**NOTA BENE** La sintassi con la doppia parentesi quadra (`[[\"valore\"]]`) produce un data frame come risultato. Potevamo usare la sintassi con singola parentesi quadra (`[\"valore\"]`), questa avrebbe prodotto una lista di elementi, non un data frame.\n",
    "\n",
    "Provare la differenza. Nel secondo caso si vedrà che non esiste una colonna con nome `valore`, ma una semplice lista."
   ]
  },
  {
   "cell_type": "code",
   "execution_count": 173,
   "id": "1aaf1b41-c44b-4a25-81c9-b37b50fa25cf",
   "metadata": {},
   "outputs": [
    {
     "data": {
      "text/html": [
       "<div>\n",
       "<style scoped>\n",
       "    .dataframe tbody tr th:only-of-type {\n",
       "        vertical-align: middle;\n",
       "    }\n",
       "\n",
       "    .dataframe tbody tr th {\n",
       "        vertical-align: top;\n",
       "    }\n",
       "\n",
       "    .dataframe thead th {\n",
       "        text-align: right;\n",
       "    }\n",
       "</style>\n",
       "<table border=\"1\" class=\"dataframe\">\n",
       "  <thead>\n",
       "    <tr style=\"text-align: right;\">\n",
       "      <th></th>\n",
       "      <th>valore</th>\n",
       "    </tr>\n",
       "    <tr>\n",
       "      <th>inquinante</th>\n",
       "      <th></th>\n",
       "    </tr>\n",
       "  </thead>\n",
       "  <tbody>\n",
       "    <tr>\n",
       "      <th>C6H6</th>\n",
       "      <td>661.60</td>\n",
       "    </tr>\n",
       "    <tr>\n",
       "      <th>CO_8h</th>\n",
       "      <td>407.95</td>\n",
       "    </tr>\n",
       "    <tr>\n",
       "      <th>NO2</th>\n",
       "      <td>56319.00</td>\n",
       "    </tr>\n",
       "    <tr>\n",
       "      <th>O3</th>\n",
       "      <td>35507.00</td>\n",
       "    </tr>\n",
       "    <tr>\n",
       "      <th>PM10</th>\n",
       "      <td>22529.00</td>\n",
       "    </tr>\n",
       "    <tr>\n",
       "      <th>PM25</th>\n",
       "      <td>8054.00</td>\n",
       "    </tr>\n",
       "    <tr>\n",
       "      <th>SO2</th>\n",
       "      <td>740.50</td>\n",
       "    </tr>\n",
       "  </tbody>\n",
       "</table>\n",
       "</div>"
      ],
      "text/plain": [
       "              valore\n",
       "inquinante          \n",
       "C6H6          661.60\n",
       "CO_8h         407.95\n",
       "NO2         56319.00\n",
       "O3          35507.00\n",
       "PM10        22529.00\n",
       "PM25         8054.00\n",
       "SO2           740.50"
      ]
     },
     "execution_count": 173,
     "metadata": {},
     "output_type": "execute_result"
    }
   ],
   "source": [
    "df_grp=df_py.groupby([\"inquinante\"])[[\"valore\"]].sum()\n",
    "df_grp"
   ]
  },
  {
   "cell_type": "markdown",
   "id": "ded43c6c-90cf-4cda-a151-4eb00d87ba7b",
   "metadata": {},
   "source": [
    "Si osservi bene il risultato salvato nel data frame `df_grp`: è un data frame con la colonna `valore`, ma quella che sembra essere la prima colonna `inquinante` **non lo è** (la grafica evidenzia la differenza disallineando i nomi e usando il grassetto).<br>\n",
    "Vediamo meglio."
   ]
  },
  {
   "cell_type": "markdown",
   "id": "2eeaa5da-4110-4e0c-a24b-381a95d94c93",
   "metadata": {},
   "source": [
    "Prima controlliamo quali sono le colonne di `df_grp`. <br>\n",
    "Il risultato ci dice che c'è un'unica colonna `valore` di tipo alfanumerico (`object`) e che è indicizzata."
   ]
  },
  {
   "cell_type": "code",
   "execution_count": 152,
   "id": "eae49c6d-0b3a-49b9-962a-eddb13194480",
   "metadata": {},
   "outputs": [
    {
     "data": {
      "text/plain": [
       "Index(['valore'], dtype='object')"
      ]
     },
     "execution_count": 152,
     "metadata": {},
     "output_type": "execute_result"
    }
   ],
   "source": [
    "df_grp.columns"
   ]
  },
  {
   "cell_type": "markdown",
   "id": "6e20b6ed-9b8e-49c0-94db-ddb6505a0745",
   "metadata": {},
   "source": [
    "Vediamo l'indice allora. Il risultato mostra i valori di `inquinante`."
   ]
  },
  {
   "cell_type": "code",
   "execution_count": 153,
   "id": "3c6f31f3-f45b-47fb-b2f0-b991d7a88a4b",
   "metadata": {},
   "outputs": [
    {
     "data": {
      "text/plain": [
       "Index(['C6H6', 'CO_8h', 'NO2', 'O3', 'PM10', 'PM25', 'SO2'], dtype='object', name='inquinante')"
      ]
     },
     "execution_count": 153,
     "metadata": {},
     "output_type": "execute_result"
    }
   ],
   "source": [
    "df_grp.index"
   ]
  },
  {
   "cell_type": "markdown",
   "id": "a0012ca9-1b24-47df-b50f-49e5ab50de0d",
   "metadata": {},
   "source": [
    "Dopo la `groupby()`, `inquinante` non è più una colonna del data frame ma l'**indice** del data frame (un livello di indice).<br>\n",
    "Si può fare un'ulteriore verifica: `df_grp[\"valore\"]` mostrerà i valori della colonna, `df_grp[\"inquinante\"]` produrrà un errore perché non esiste quella colonna. <br>\n",
    "Quindi, l'indice non è o non sono colonne, ma hanno altre funzioni e, in ogni caso, si può facilmente trasformare nuovamente in colonne del data frame.<br> \n",
    "Vediamo uno degli utilizzi dell'indice.  "
   ]
  },
  {
   "cell_type": "markdown",
   "id": "01c3cbf8-ec68-439d-8cc8-ea363d7e5a52",
   "metadata": {},
   "source": [
    "## Selezione di righe attraverso valori dell'indice: `loc()`"
   ]
  },
  {
   "cell_type": "markdown",
   "id": "12f8c398-a1d0-423f-b618-312d010af2e3",
   "metadata": {},
   "source": [
    "Gli esempi mostrano la selezione di un singolo elemento, un intervallo e un elenco di elementi attraverso i valori dell'indice e la funzione `loc()` di pandas. <ins>Questa è la seconda modalità di selezione di righe</ins> che incontriamo."
   ]
  },
  {
   "cell_type": "code",
   "execution_count": 154,
   "id": "4f6c035f-9c21-444f-997a-5ca04c95956b",
   "metadata": {},
   "outputs": [
    {
     "data": {
      "text/plain": [
       "valore    22529.0\n",
       "Name: PM10, dtype: float64"
      ]
     },
     "execution_count": 154,
     "metadata": {},
     "output_type": "execute_result"
    }
   ],
   "source": [
    "df_grp.loc[\"PM10\"]"
   ]
  },
  {
   "cell_type": "code",
   "execution_count": 155,
   "id": "58e1f60a-9f8a-4eba-a74c-a85e1f478edb",
   "metadata": {},
   "outputs": [
    {
     "data": {
      "text/html": [
       "<div>\n",
       "<style scoped>\n",
       "    .dataframe tbody tr th:only-of-type {\n",
       "        vertical-align: middle;\n",
       "    }\n",
       "\n",
       "    .dataframe tbody tr th {\n",
       "        vertical-align: top;\n",
       "    }\n",
       "\n",
       "    .dataframe thead th {\n",
       "        text-align: right;\n",
       "    }\n",
       "</style>\n",
       "<table border=\"1\" class=\"dataframe\">\n",
       "  <thead>\n",
       "    <tr style=\"text-align: right;\">\n",
       "      <th></th>\n",
       "      <th>valore</th>\n",
       "    </tr>\n",
       "    <tr>\n",
       "      <th>inquinante</th>\n",
       "      <th></th>\n",
       "    </tr>\n",
       "  </thead>\n",
       "  <tbody>\n",
       "    <tr>\n",
       "      <th>PM10</th>\n",
       "      <td>22529.0</td>\n",
       "    </tr>\n",
       "    <tr>\n",
       "      <th>PM25</th>\n",
       "      <td>8054.0</td>\n",
       "    </tr>\n",
       "    <tr>\n",
       "      <th>SO2</th>\n",
       "      <td>740.5</td>\n",
       "    </tr>\n",
       "  </tbody>\n",
       "</table>\n",
       "</div>"
      ],
      "text/plain": [
       "             valore\n",
       "inquinante         \n",
       "PM10        22529.0\n",
       "PM25         8054.0\n",
       "SO2           740.5"
      ]
     },
     "execution_count": 155,
     "metadata": {},
     "output_type": "execute_result"
    }
   ],
   "source": [
    "df_grp.loc[\"PM10\":\"SO2\"]"
   ]
  },
  {
   "cell_type": "markdown",
   "id": "7dbd9ec5-3756-495f-aaf5-d63b17d1de34",
   "metadata": {},
   "source": [
    "### Parentesi quadre singole o doppie"
   ]
  },
  {
   "cell_type": "markdown",
   "id": "4a89947d-d8c3-4be9-a9c1-99e4d00ac8a5",
   "metadata": {},
   "source": [
    "Nel caso dell'elenco c'è un dettaglio da considerare.\n",
    "- **doppie parentesi quadre:** per ottenere l'elenco delle righe corrispondenti ai valori dell'indice su singolo livello (il risultato è un data frame)\n",
    "- **singole parentesi quadre:** indicano i valori di un indice a più livelli e l'elenco corrisponde ai valori dei diversi livelli (un esempio nel seguito)"
   ]
  },
  {
   "cell_type": "code",
   "execution_count": 156,
   "id": "ab9a796e-d947-4c08-a5af-30fd89ef0b45",
   "metadata": {},
   "outputs": [
    {
     "data": {
      "text/html": [
       "<div>\n",
       "<style scoped>\n",
       "    .dataframe tbody tr th:only-of-type {\n",
       "        vertical-align: middle;\n",
       "    }\n",
       "\n",
       "    .dataframe tbody tr th {\n",
       "        vertical-align: top;\n",
       "    }\n",
       "\n",
       "    .dataframe thead th {\n",
       "        text-align: right;\n",
       "    }\n",
       "</style>\n",
       "<table border=\"1\" class=\"dataframe\">\n",
       "  <thead>\n",
       "    <tr style=\"text-align: right;\">\n",
       "      <th></th>\n",
       "      <th>valore</th>\n",
       "    </tr>\n",
       "    <tr>\n",
       "      <th>inquinante</th>\n",
       "      <th></th>\n",
       "    </tr>\n",
       "  </thead>\n",
       "  <tbody>\n",
       "    <tr>\n",
       "      <th>NO2</th>\n",
       "      <td>56319.0</td>\n",
       "    </tr>\n",
       "    <tr>\n",
       "      <th>SO2</th>\n",
       "      <td>740.5</td>\n",
       "    </tr>\n",
       "    <tr>\n",
       "      <th>C6H6</th>\n",
       "      <td>661.6</td>\n",
       "    </tr>\n",
       "  </tbody>\n",
       "</table>\n",
       "</div>"
      ],
      "text/plain": [
       "             valore\n",
       "inquinante         \n",
       "NO2         56319.0\n",
       "SO2           740.5\n",
       "C6H6          661.6"
      ]
     },
     "execution_count": 156,
     "metadata": {},
     "output_type": "execute_result"
    }
   ],
   "source": [
    "df_grp.loc[[\"NO2\",\"SO2\",\"C6H6\"]]"
   ]
  },
  {
   "cell_type": "markdown",
   "id": "bb6fdf98-39f3-4c90-bf0b-6843137eaaf1",
   "metadata": {},
   "source": [
    "### Statistiche descrittive: `describe()`"
   ]
  },
  {
   "cell_type": "markdown",
   "id": "f7b981f2-e26c-4ce7-8ec3-744f7362dda0",
   "metadata": {},
   "source": [
    "Per ricavare le **statistiche descrittive** per una Simple Exploratory Analysis, l'analogo della `summary()` di R è la `describe()` con l'opzione `include='all'`, questa mostra le statistiche descrittive per tutte (e solo) le colonne **numeriche** del data frame."
   ]
  },
  {
   "cell_type": "code",
   "execution_count": 157,
   "id": "8b06b669-b174-4479-b757-922e07c57b84",
   "metadata": {},
   "outputs": [
    {
     "data": {
      "text/html": [
       "<div>\n",
       "<style scoped>\n",
       "    .dataframe tbody tr th:only-of-type {\n",
       "        vertical-align: middle;\n",
       "    }\n",
       "\n",
       "    .dataframe tbody tr th {\n",
       "        vertical-align: top;\n",
       "    }\n",
       "\n",
       "    .dataframe thead th {\n",
       "        text-align: right;\n",
       "    }\n",
       "</style>\n",
       "<table border=\"1\" class=\"dataframe\">\n",
       "  <thead>\n",
       "    <tr style=\"text-align: right;\">\n",
       "      <th></th>\n",
       "      <th>valore</th>\n",
       "    </tr>\n",
       "  </thead>\n",
       "  <tbody>\n",
       "    <tr>\n",
       "      <th>count</th>\n",
       "      <td>7.000000</td>\n",
       "    </tr>\n",
       "    <tr>\n",
       "      <th>mean</th>\n",
       "      <td>17745.578571</td>\n",
       "    </tr>\n",
       "    <tr>\n",
       "      <th>std</th>\n",
       "      <td>21609.462176</td>\n",
       "    </tr>\n",
       "    <tr>\n",
       "      <th>min</th>\n",
       "      <td>407.950000</td>\n",
       "    </tr>\n",
       "    <tr>\n",
       "      <th>25%</th>\n",
       "      <td>701.050000</td>\n",
       "    </tr>\n",
       "    <tr>\n",
       "      <th>50%</th>\n",
       "      <td>8054.000000</td>\n",
       "    </tr>\n",
       "    <tr>\n",
       "      <th>75%</th>\n",
       "      <td>29018.000000</td>\n",
       "    </tr>\n",
       "    <tr>\n",
       "      <th>max</th>\n",
       "      <td>56319.000000</td>\n",
       "    </tr>\n",
       "  </tbody>\n",
       "</table>\n",
       "</div>"
      ],
      "text/plain": [
       "             valore\n",
       "count      7.000000\n",
       "mean   17745.578571\n",
       "std    21609.462176\n",
       "min      407.950000\n",
       "25%      701.050000\n",
       "50%     8054.000000\n",
       "75%    29018.000000\n",
       "max    56319.000000"
      ]
     },
     "execution_count": 157,
     "metadata": {},
     "output_type": "execute_result"
    }
   ],
   "source": [
    "df_grp.describe(include='all')"
   ]
  },
  {
   "cell_type": "markdown",
   "id": "d40badb5-0a76-4c35-81d0-68069614822b",
   "metadata": {},
   "source": [
    "### (Ri)trasformare colonne dell'indice in colonne del data frame: `reset_index()` "
   ]
  },
  {
   "cell_type": "markdown",
   "id": "3d7fcbc0-58a5-4438-955c-cd2daebe604e",
   "metadata": {},
   "source": [
    "Questa è l'operazione che riporta il risultati di una gruopby(), data frame indicizzato, a data frame non indicizzato.<br>\n",
    "L'opzione `inplace=True` salva il risultato nel data frame `df_grp` senza bisogno di farlo esplicitamente."
   ]
  },
  {
   "cell_type": "code",
   "execution_count": 174,
   "id": "47c683cd-4aad-4f3f-97fe-dad7eebf167e",
   "metadata": {},
   "outputs": [
    {
     "data": {
      "text/html": [
       "<div>\n",
       "<style scoped>\n",
       "    .dataframe tbody tr th:only-of-type {\n",
       "        vertical-align: middle;\n",
       "    }\n",
       "\n",
       "    .dataframe tbody tr th {\n",
       "        vertical-align: top;\n",
       "    }\n",
       "\n",
       "    .dataframe thead th {\n",
       "        text-align: right;\n",
       "    }\n",
       "</style>\n",
       "<table border=\"1\" class=\"dataframe\">\n",
       "  <thead>\n",
       "    <tr style=\"text-align: right;\">\n",
       "      <th></th>\n",
       "      <th>inquinante</th>\n",
       "      <th>valore</th>\n",
       "    </tr>\n",
       "  </thead>\n",
       "  <tbody>\n",
       "    <tr>\n",
       "      <th>0</th>\n",
       "      <td>C6H6</td>\n",
       "      <td>661.60</td>\n",
       "    </tr>\n",
       "    <tr>\n",
       "      <th>1</th>\n",
       "      <td>CO_8h</td>\n",
       "      <td>407.95</td>\n",
       "    </tr>\n",
       "    <tr>\n",
       "      <th>2</th>\n",
       "      <td>NO2</td>\n",
       "      <td>56319.00</td>\n",
       "    </tr>\n",
       "    <tr>\n",
       "      <th>3</th>\n",
       "      <td>O3</td>\n",
       "      <td>35507.00</td>\n",
       "    </tr>\n",
       "    <tr>\n",
       "      <th>4</th>\n",
       "      <td>PM10</td>\n",
       "      <td>22529.00</td>\n",
       "    </tr>\n",
       "    <tr>\n",
       "      <th>5</th>\n",
       "      <td>PM25</td>\n",
       "      <td>8054.00</td>\n",
       "    </tr>\n",
       "    <tr>\n",
       "      <th>6</th>\n",
       "      <td>SO2</td>\n",
       "      <td>740.50</td>\n",
       "    </tr>\n",
       "  </tbody>\n",
       "</table>\n",
       "</div>"
      ],
      "text/plain": [
       "  inquinante    valore\n",
       "0       C6H6    661.60\n",
       "1      CO_8h    407.95\n",
       "2        NO2  56319.00\n",
       "3         O3  35507.00\n",
       "4       PM10  22529.00\n",
       "5       PM25   8054.00\n",
       "6        SO2    740.50"
      ]
     },
     "execution_count": 174,
     "metadata": {},
     "output_type": "execute_result"
    }
   ],
   "source": [
    "df_grp.reset_index(inplace=True)\n",
    "df_grp"
   ]
  },
  {
   "cell_type": "markdown",
   "id": "c3194c70-f4e3-4e93-888a-eaf853852d26",
   "metadata": {},
   "source": [
    "**ATTENZIONE:** Vediamo cosa succede se eseguiamo nuovamente la `reset_index()` sul data frame. Notate che i numeri di riga sono a loro volta un indice (**indice implicito** viene detto). La reset_index() ripetuta de-indicizza anche i numeri di riga e <ins>crea una nuova colonna `index`</ins>. \n",
    "\n",
    "Questo ci dà lo spunto per introdurre due nuove funzioni utili:\n",
    "- la funzione `drop()` per cancellare una colonna\n",
    "- la funzione `iloc()` per la terza modalità di selezione di righe \n",
    "\n",
    "Prima eseguiamo nuovamente la `reset_index()` per creare la colonna inutile `index`."
   ]
  },
  {
   "cell_type": "code",
   "execution_count": 175,
   "id": "5da85bf5-9b45-4306-b8bd-e2c73d9c2c45",
   "metadata": {},
   "outputs": [
    {
     "data": {
      "text/html": [
       "<div>\n",
       "<style scoped>\n",
       "    .dataframe tbody tr th:only-of-type {\n",
       "        vertical-align: middle;\n",
       "    }\n",
       "\n",
       "    .dataframe tbody tr th {\n",
       "        vertical-align: top;\n",
       "    }\n",
       "\n",
       "    .dataframe thead th {\n",
       "        text-align: right;\n",
       "    }\n",
       "</style>\n",
       "<table border=\"1\" class=\"dataframe\">\n",
       "  <thead>\n",
       "    <tr style=\"text-align: right;\">\n",
       "      <th></th>\n",
       "      <th>index</th>\n",
       "      <th>inquinante</th>\n",
       "      <th>valore</th>\n",
       "    </tr>\n",
       "  </thead>\n",
       "  <tbody>\n",
       "    <tr>\n",
       "      <th>0</th>\n",
       "      <td>0</td>\n",
       "      <td>C6H6</td>\n",
       "      <td>661.60</td>\n",
       "    </tr>\n",
       "    <tr>\n",
       "      <th>1</th>\n",
       "      <td>1</td>\n",
       "      <td>CO_8h</td>\n",
       "      <td>407.95</td>\n",
       "    </tr>\n",
       "    <tr>\n",
       "      <th>2</th>\n",
       "      <td>2</td>\n",
       "      <td>NO2</td>\n",
       "      <td>56319.00</td>\n",
       "    </tr>\n",
       "    <tr>\n",
       "      <th>3</th>\n",
       "      <td>3</td>\n",
       "      <td>O3</td>\n",
       "      <td>35507.00</td>\n",
       "    </tr>\n",
       "    <tr>\n",
       "      <th>4</th>\n",
       "      <td>4</td>\n",
       "      <td>PM10</td>\n",
       "      <td>22529.00</td>\n",
       "    </tr>\n",
       "    <tr>\n",
       "      <th>5</th>\n",
       "      <td>5</td>\n",
       "      <td>PM25</td>\n",
       "      <td>8054.00</td>\n",
       "    </tr>\n",
       "    <tr>\n",
       "      <th>6</th>\n",
       "      <td>6</td>\n",
       "      <td>SO2</td>\n",
       "      <td>740.50</td>\n",
       "    </tr>\n",
       "  </tbody>\n",
       "</table>\n",
       "</div>"
      ],
      "text/plain": [
       "   index inquinante    valore\n",
       "0      0       C6H6    661.60\n",
       "1      1      CO_8h    407.95\n",
       "2      2        NO2  56319.00\n",
       "3      3         O3  35507.00\n",
       "4      4       PM10  22529.00\n",
       "5      5       PM25   8054.00\n",
       "6      6        SO2    740.50"
      ]
     },
     "execution_count": 175,
     "metadata": {},
     "output_type": "execute_result"
    }
   ],
   "source": [
    "#seconda esecuzione della reset_index()\n",
    "df_grp.reset_index(inplace=True)\n",
    "df_grp"
   ]
  },
  {
   "cell_type": "markdown",
   "id": "f721121f-2e9a-4321-804a-028e908bb855",
   "metadata": {},
   "source": [
    "## Cancellare colonne: `drop()`"
   ]
  },
  {
   "cell_type": "markdown",
   "id": "824a43a9-8848-4fb7-b5f1-3152619bec5d",
   "metadata": {},
   "source": [
    "Eliminiamo la colonna `index`."
   ]
  },
  {
   "cell_type": "code",
   "execution_count": 180,
   "id": "12b92f48-0191-415e-b062-3dcd79ffb048",
   "metadata": {},
   "outputs": [
    {
     "data": {
      "text/html": [
       "<div>\n",
       "<style scoped>\n",
       "    .dataframe tbody tr th:only-of-type {\n",
       "        vertical-align: middle;\n",
       "    }\n",
       "\n",
       "    .dataframe tbody tr th {\n",
       "        vertical-align: top;\n",
       "    }\n",
       "\n",
       "    .dataframe thead th {\n",
       "        text-align: right;\n",
       "    }\n",
       "</style>\n",
       "<table border=\"1\" class=\"dataframe\">\n",
       "  <thead>\n",
       "    <tr style=\"text-align: right;\">\n",
       "      <th></th>\n",
       "      <th>inquinante</th>\n",
       "      <th>valore</th>\n",
       "    </tr>\n",
       "  </thead>\n",
       "  <tbody>\n",
       "    <tr>\n",
       "      <th>0</th>\n",
       "      <td>C6H6</td>\n",
       "      <td>661.60</td>\n",
       "    </tr>\n",
       "    <tr>\n",
       "      <th>1</th>\n",
       "      <td>CO_8h</td>\n",
       "      <td>407.95</td>\n",
       "    </tr>\n",
       "    <tr>\n",
       "      <th>2</th>\n",
       "      <td>NO2</td>\n",
       "      <td>56319.00</td>\n",
       "    </tr>\n",
       "    <tr>\n",
       "      <th>3</th>\n",
       "      <td>O3</td>\n",
       "      <td>35507.00</td>\n",
       "    </tr>\n",
       "    <tr>\n",
       "      <th>4</th>\n",
       "      <td>PM10</td>\n",
       "      <td>22529.00</td>\n",
       "    </tr>\n",
       "    <tr>\n",
       "      <th>5</th>\n",
       "      <td>PM25</td>\n",
       "      <td>8054.00</td>\n",
       "    </tr>\n",
       "    <tr>\n",
       "      <th>6</th>\n",
       "      <td>SO2</td>\n",
       "      <td>740.50</td>\n",
       "    </tr>\n",
       "  </tbody>\n",
       "</table>\n",
       "</div>"
      ],
      "text/plain": [
       "  inquinante    valore\n",
       "0       C6H6    661.60\n",
       "1      CO_8h    407.95\n",
       "2        NO2  56319.00\n",
       "3         O3  35507.00\n",
       "4       PM10  22529.00\n",
       "5       PM25   8054.00\n",
       "6        SO2    740.50"
      ]
     },
     "execution_count": 180,
     "metadata": {},
     "output_type": "execute_result"
    }
   ],
   "source": [
    "df_grp.drop(columns=\"index\", inplace=True)\n",
    "df_grp"
   ]
  },
  {
   "cell_type": "markdown",
   "id": "4ed5a534-5ba6-4ea4-8e79-87d20185ab3b",
   "metadata": {},
   "source": [
    "## Selezione di righe attraverso valori dell'indice implicito: `iloc()`"
   ]
  },
  {
   "cell_type": "markdown",
   "id": "76ad65a9-c12c-4b40-8ad1-6d2ff72563f2",
   "metadata": {},
   "source": [
    "Procediamo come visto prima per la funzione `loc()` con la selezione di un singolo elemento, un intervallo e un elenco di elementi attraverso i valori dell'indice implicito e la funzione `iloc()` di pandas. <br>\n",
    "Per chiarezza però eseguiamo nuovamente la groupby() così abbiamo sia indici impliciti che espliciti. <br>\n",
    "Questa è la <ins>terza modalità di selezione di righe</ins> che incontriamo."
   ]
  },
  {
   "cell_type": "code",
   "execution_count": 184,
   "id": "1625aab2-9862-4cb2-9ed8-e7e00753bb67",
   "metadata": {},
   "outputs": [
    {
     "data": {
      "text/html": [
       "<div>\n",
       "<style scoped>\n",
       "    .dataframe tbody tr th:only-of-type {\n",
       "        vertical-align: middle;\n",
       "    }\n",
       "\n",
       "    .dataframe tbody tr th {\n",
       "        vertical-align: top;\n",
       "    }\n",
       "\n",
       "    .dataframe thead th {\n",
       "        text-align: right;\n",
       "    }\n",
       "</style>\n",
       "<table border=\"1\" class=\"dataframe\">\n",
       "  <thead>\n",
       "    <tr style=\"text-align: right;\">\n",
       "      <th></th>\n",
       "      <th>valore</th>\n",
       "    </tr>\n",
       "    <tr>\n",
       "      <th>inquinante</th>\n",
       "      <th></th>\n",
       "    </tr>\n",
       "  </thead>\n",
       "  <tbody>\n",
       "    <tr>\n",
       "      <th>C6H6</th>\n",
       "      <td>661.60</td>\n",
       "    </tr>\n",
       "    <tr>\n",
       "      <th>CO_8h</th>\n",
       "      <td>407.95</td>\n",
       "    </tr>\n",
       "    <tr>\n",
       "      <th>NO2</th>\n",
       "      <td>56319.00</td>\n",
       "    </tr>\n",
       "    <tr>\n",
       "      <th>O3</th>\n",
       "      <td>35507.00</td>\n",
       "    </tr>\n",
       "    <tr>\n",
       "      <th>PM10</th>\n",
       "      <td>22529.00</td>\n",
       "    </tr>\n",
       "    <tr>\n",
       "      <th>PM25</th>\n",
       "      <td>8054.00</td>\n",
       "    </tr>\n",
       "    <tr>\n",
       "      <th>SO2</th>\n",
       "      <td>740.50</td>\n",
       "    </tr>\n",
       "  </tbody>\n",
       "</table>\n",
       "</div>"
      ],
      "text/plain": [
       "              valore\n",
       "inquinante          \n",
       "C6H6          661.60\n",
       "CO_8h         407.95\n",
       "NO2         56319.00\n",
       "O3          35507.00\n",
       "PM10        22529.00\n",
       "PM25         8054.00\n",
       "SO2           740.50"
      ]
     },
     "execution_count": 184,
     "metadata": {},
     "output_type": "execute_result"
    }
   ],
   "source": [
    "df_grp=df_py.groupby([\"inquinante\"])[[\"valore\"]].sum()\n",
    "df_grp"
   ]
  },
  {
   "cell_type": "code",
   "execution_count": 187,
   "id": "ed157f62-ec68-4b7b-81d6-3b6180db8bff",
   "metadata": {},
   "outputs": [
    {
     "data": {
      "text/plain": [
       "valore    56319.0\n",
       "Name: NO2, dtype: float64"
      ]
     },
     "execution_count": 187,
     "metadata": {},
     "output_type": "execute_result"
    }
   ],
   "source": [
    "#seleziona l'elemento con indice implicito 2\n",
    "df_grp.iloc[2]"
   ]
  },
  {
   "cell_type": "code",
   "execution_count": 189,
   "id": "05c08936-6438-4551-9b9f-4c7154a902cf",
   "metadata": {},
   "outputs": [
    {
     "data": {
      "text/html": [
       "<div>\n",
       "<style scoped>\n",
       "    .dataframe tbody tr th:only-of-type {\n",
       "        vertical-align: middle;\n",
       "    }\n",
       "\n",
       "    .dataframe tbody tr th {\n",
       "        vertical-align: top;\n",
       "    }\n",
       "\n",
       "    .dataframe thead th {\n",
       "        text-align: right;\n",
       "    }\n",
       "</style>\n",
       "<table border=\"1\" class=\"dataframe\">\n",
       "  <thead>\n",
       "    <tr style=\"text-align: right;\">\n",
       "      <th></th>\n",
       "      <th>valore</th>\n",
       "    </tr>\n",
       "    <tr>\n",
       "      <th>inquinante</th>\n",
       "      <th></th>\n",
       "    </tr>\n",
       "  </thead>\n",
       "  <tbody>\n",
       "    <tr>\n",
       "      <th>NO2</th>\n",
       "      <td>56319.0</td>\n",
       "    </tr>\n",
       "    <tr>\n",
       "      <th>O3</th>\n",
       "      <td>35507.0</td>\n",
       "    </tr>\n",
       "    <tr>\n",
       "      <th>PM10</th>\n",
       "      <td>22529.0</td>\n",
       "    </tr>\n",
       "  </tbody>\n",
       "</table>\n",
       "</div>"
      ],
      "text/plain": [
       "             valore\n",
       "inquinante         \n",
       "NO2         56319.0\n",
       "O3          35507.0\n",
       "PM10        22529.0"
      ]
     },
     "execution_count": 189,
     "metadata": {},
     "output_type": "execute_result"
    }
   ],
   "source": [
    "#seleziona gli elementi da indice implicito 2 (incluso) a indice implicito 5 (escluso)\n",
    "df_grp.iloc[2:5]"
   ]
  },
  {
   "cell_type": "code",
   "execution_count": 192,
   "id": "63986fd6-c01a-4a58-b5e5-adff3de591f8",
   "metadata": {},
   "outputs": [
    {
     "data": {
      "text/html": [
       "<div>\n",
       "<style scoped>\n",
       "    .dataframe tbody tr th:only-of-type {\n",
       "        vertical-align: middle;\n",
       "    }\n",
       "\n",
       "    .dataframe tbody tr th {\n",
       "        vertical-align: top;\n",
       "    }\n",
       "\n",
       "    .dataframe thead th {\n",
       "        text-align: right;\n",
       "    }\n",
       "</style>\n",
       "<table border=\"1\" class=\"dataframe\">\n",
       "  <thead>\n",
       "    <tr style=\"text-align: right;\">\n",
       "      <th></th>\n",
       "      <th>valore</th>\n",
       "    </tr>\n",
       "    <tr>\n",
       "      <th>inquinante</th>\n",
       "      <th></th>\n",
       "    </tr>\n",
       "  </thead>\n",
       "  <tbody>\n",
       "    <tr>\n",
       "      <th>C6H6</th>\n",
       "      <td>661.6</td>\n",
       "    </tr>\n",
       "    <tr>\n",
       "      <th>O3</th>\n",
       "      <td>35507.0</td>\n",
       "    </tr>\n",
       "    <tr>\n",
       "      <th>SO2</th>\n",
       "      <td>740.5</td>\n",
       "    </tr>\n",
       "  </tbody>\n",
       "</table>\n",
       "</div>"
      ],
      "text/plain": [
       "             valore\n",
       "inquinante         \n",
       "C6H6          661.6\n",
       "O3          35507.0\n",
       "SO2           740.5"
      ]
     },
     "execution_count": 192,
     "metadata": {},
     "output_type": "execute_result"
    }
   ],
   "source": [
    "#seleziona gli elementi di indice implicito 0, 3 e 6\n",
    "#stessa regola di prima per parentesi quadre singole o doppie\n",
    "df_grp.iloc[[0,3,6]]"
   ]
  },
  {
   "cell_type": "markdown",
   "id": "8ae1b043-e4e3-4c40-993c-2d4144a0810e",
   "metadata": {},
   "source": [
    "## Barplot ##"
   ]
  },
  {
   "cell_type": "markdown",
   "id": "19b4c094-fd4c-4da2-b93f-4804b4615ac8",
   "metadata": {},
   "source": [
    "Vediamo un primo esempio semplice a cui aggiungiamo l'opzione per visualizzare le colonne in ordine decrescente.<br>\n",
    "Si consideri bene la sintassi: `order=df.sort_values(\"variabile_y\",ascending=False).variabile_x)`<br>\n",
    "- **variabile_x** è la variabile le cui colonne vogliamo ordinare\n",
    "- **variabile_y** è la variabile i cui valori determinano l'ordinameno, crescente o decrescente, delle colonne"
   ]
  },
  {
   "cell_type": "code",
   "execution_count": 128,
   "id": "8216a990-acca-43ca-aa76-ff0bd5013a6c",
   "metadata": {},
   "outputs": [
    {
     "data": {
      "image/png": "[encoded data removed]",
      "text/plain": [
       "<Figure size 800x500 with 1 Axes>"
      ]
     },
     "metadata": {},
     "output_type": "display_data"
    }
   ],
   "source": [
    "plt.figure(figsize = (8,5))\n",
    "sns.barplot(data=df_grp, x=\"inquinante\", y=\"valore\", order=df_grp.sort_values(\"valore\",ascending=False).inquinante)\n",
    "plt.xticks(rotation=90)\n",
    "plt.show()"
   ]
  },
  {
   "cell_type": "markdown",
   "id": "6058728e-b615-45a1-8d42-b63ff620f733",
   "metadata": {},
   "source": [
    "## Gruppi su più variabili e indice multilivello"
   ]
  },
  {
   "cell_type": "markdown",
   "id": "901ae4fd-a3cd-4759-a718-0889cf8ec948",
   "metadata": {},
   "source": [
    "Ora complichiamo leggermente il grafico per avere non solo i totali parziali rispetto agli inquinanti, ma vogliamo avere <ins>i totali parziali divisi anche per mese, quindi, per ogni mese, quanti inquinanti</ins>. <br>\n",
    "Serve ancora la `groupby()` ma questa volta rispetto alle due variabili, il mese, estratto dalla data, e `inquinanti`."
   ]
  },
  {
   "cell_type": "markdown",
   "id": "68412e00-6813-4ef3-97cc-8ef4c53cccea",
   "metadata": {},
   "source": [
    "Per estrarre il mese dai valori di `data` (deve essere in formato datetime) ricorriamo alla funzione `dt.month` di pandas, logicamente analoga alla `Month()` della libreria lubridate di R.<br>\n",
    "`df_py['data'].dt.month` ricava il valore del mese dai valori di `df_py['data']`.<br>\n",
    "Questa è la modalità standard per usare valori della data in una `groupby()`."
   ]
  },
  {
   "cell_type": "code",
   "execution_count": 208,
   "id": "04e1357f-5939-4ee3-a0b6-7e30dd0cb280",
   "metadata": {},
   "outputs": [
    {
     "data": {
      "text/html": [
       "<div>\n",
       "<style scoped>\n",
       "    .dataframe tbody tr th:only-of-type {\n",
       "        vertical-align: middle;\n",
       "    }\n",
       "\n",
       "    .dataframe tbody tr th {\n",
       "        vertical-align: top;\n",
       "    }\n",
       "\n",
       "    .dataframe thead th {\n",
       "        text-align: right;\n",
       "    }\n",
       "</style>\n",
       "<table border=\"1\" class=\"dataframe\">\n",
       "  <thead>\n",
       "    <tr style=\"text-align: right;\">\n",
       "      <th></th>\n",
       "      <th></th>\n",
       "      <th>valore</th>\n",
       "    </tr>\n",
       "    <tr>\n",
       "      <th>data</th>\n",
       "      <th>inquinante</th>\n",
       "      <th></th>\n",
       "    </tr>\n",
       "  </thead>\n",
       "  <tbody>\n",
       "    <tr>\n",
       "      <th rowspan=\"5\" valign=\"top\">1</th>\n",
       "      <th>C6H6</th>\n",
       "      <td>158.2</td>\n",
       "    </tr>\n",
       "    <tr>\n",
       "      <th>CO_8h</th>\n",
       "      <td>87.4</td>\n",
       "    </tr>\n",
       "    <tr>\n",
       "      <th>NO2</th>\n",
       "      <td>7428.0</td>\n",
       "    </tr>\n",
       "    <tr>\n",
       "      <th>O3</th>\n",
       "      <td>840.0</td>\n",
       "    </tr>\n",
       "    <tr>\n",
       "      <th>PM10</th>\n",
       "      <td>4738.0</td>\n",
       "    </tr>\n",
       "    <tr>\n",
       "      <th>...</th>\n",
       "      <th>...</th>\n",
       "      <td>...</td>\n",
       "    </tr>\n",
       "    <tr>\n",
       "      <th rowspan=\"5\" valign=\"top\">9</th>\n",
       "      <th>NO2</th>\n",
       "      <td>5926.0</td>\n",
       "    </tr>\n",
       "    <tr>\n",
       "      <th>O3</th>\n",
       "      <td>4337.0</td>\n",
       "    </tr>\n",
       "    <tr>\n",
       "      <th>PM10</th>\n",
       "      <td>1773.0</td>\n",
       "    </tr>\n",
       "    <tr>\n",
       "      <th>PM25</th>\n",
       "      <td>699.0</td>\n",
       "    </tr>\n",
       "    <tr>\n",
       "      <th>SO2</th>\n",
       "      <td>83.0</td>\n",
       "    </tr>\n",
       "  </tbody>\n",
       "</table>\n",
       "<p>63 rows × 1 columns</p>\n",
       "</div>"
      ],
      "text/plain": [
       "                 valore\n",
       "data inquinante        \n",
       "1    C6H6         158.2\n",
       "     CO_8h         87.4\n",
       "     NO2         7428.0\n",
       "     O3           840.0\n",
       "     PM10        4738.0\n",
       "...                 ...\n",
       "9    NO2         5926.0\n",
       "     O3          4337.0\n",
       "     PM10        1773.0\n",
       "     PM25         699.0\n",
       "     SO2           83.0\n",
       "\n",
       "[63 rows x 1 columns]"
      ]
     },
     "execution_count": 208,
     "metadata": {},
     "output_type": "execute_result"
    }
   ],
   "source": [
    "df_grp2=df_py.groupby([df_py['data'].dt.month, \"inquinante\"])[[\"valore\"]].sum()\n",
    "df_grp2"
   ]
  },
  {
   "cell_type": "markdown",
   "id": "9db98c81-256e-454b-a4bb-a9e41e7989b5",
   "metadata": {},
   "source": [
    "**Riportiamo il data frame da indicizzato a non indicizzato**"
   ]
  },
  {
   "cell_type": "markdown",
   "id": "1af3b5b1-676f-4724-b911-3e71c3aef152",
   "metadata": {},
   "source": [
    "Per chiarezza rinominiamo anche la colonna `data` in `mese` con la funzione `rename()` di pandas."
   ]
  },
  {
   "cell_type": "code",
   "execution_count": 214,
   "id": "2779f80f-00a8-4333-8da3-83190d17dcd5",
   "metadata": {},
   "outputs": [
    {
     "data": {
      "text/html": [
       "<div>\n",
       "<style scoped>\n",
       "    .dataframe tbody tr th:only-of-type {\n",
       "        vertical-align: middle;\n",
       "    }\n",
       "\n",
       "    .dataframe tbody tr th {\n",
       "        vertical-align: top;\n",
       "    }\n",
       "\n",
       "    .dataframe thead th {\n",
       "        text-align: right;\n",
       "    }\n",
       "</style>\n",
       "<table border=\"1\" class=\"dataframe\">\n",
       "  <thead>\n",
       "    <tr style=\"text-align: right;\">\n",
       "      <th></th>\n",
       "      <th>mese</th>\n",
       "      <th>inquinante</th>\n",
       "      <th>valore</th>\n",
       "    </tr>\n",
       "  </thead>\n",
       "  <tbody>\n",
       "    <tr>\n",
       "      <th>0</th>\n",
       "      <td>1</td>\n",
       "      <td>C6H6</td>\n",
       "      <td>158.2</td>\n",
       "    </tr>\n",
       "    <tr>\n",
       "      <th>1</th>\n",
       "      <td>1</td>\n",
       "      <td>CO_8h</td>\n",
       "      <td>87.4</td>\n",
       "    </tr>\n",
       "    <tr>\n",
       "      <th>2</th>\n",
       "      <td>1</td>\n",
       "      <td>NO2</td>\n",
       "      <td>7428.0</td>\n",
       "    </tr>\n",
       "    <tr>\n",
       "      <th>3</th>\n",
       "      <td>1</td>\n",
       "      <td>O3</td>\n",
       "      <td>840.0</td>\n",
       "    </tr>\n",
       "    <tr>\n",
       "      <th>4</th>\n",
       "      <td>1</td>\n",
       "      <td>PM10</td>\n",
       "      <td>4738.0</td>\n",
       "    </tr>\n",
       "    <tr>\n",
       "      <th>...</th>\n",
       "      <td>...</td>\n",
       "      <td>...</td>\n",
       "      <td>...</td>\n",
       "    </tr>\n",
       "    <tr>\n",
       "      <th>58</th>\n",
       "      <td>9</td>\n",
       "      <td>NO2</td>\n",
       "      <td>5926.0</td>\n",
       "    </tr>\n",
       "    <tr>\n",
       "      <th>59</th>\n",
       "      <td>9</td>\n",
       "      <td>O3</td>\n",
       "      <td>4337.0</td>\n",
       "    </tr>\n",
       "    <tr>\n",
       "      <th>60</th>\n",
       "      <td>9</td>\n",
       "      <td>PM10</td>\n",
       "      <td>1773.0</td>\n",
       "    </tr>\n",
       "    <tr>\n",
       "      <th>61</th>\n",
       "      <td>9</td>\n",
       "      <td>PM25</td>\n",
       "      <td>699.0</td>\n",
       "    </tr>\n",
       "    <tr>\n",
       "      <th>62</th>\n",
       "      <td>9</td>\n",
       "      <td>SO2</td>\n",
       "      <td>83.0</td>\n",
       "    </tr>\n",
       "  </tbody>\n",
       "</table>\n",
       "<p>63 rows × 3 columns</p>\n",
       "</div>"
      ],
      "text/plain": [
       "    mese inquinante  valore\n",
       "0      1       C6H6   158.2\n",
       "1      1      CO_8h    87.4\n",
       "2      1        NO2  7428.0\n",
       "3      1         O3   840.0\n",
       "4      1       PM10  4738.0\n",
       "..   ...        ...     ...\n",
       "58     9        NO2  5926.0\n",
       "59     9         O3  4337.0\n",
       "60     9       PM10  1773.0\n",
       "61     9       PM25   699.0\n",
       "62     9        SO2    83.0\n",
       "\n",
       "[63 rows x 3 columns]"
      ]
     },
     "execution_count": 214,
     "metadata": {},
     "output_type": "execute_result"
    }
   ],
   "source": [
    "df_grp2.reset_index(inplace=True)\n",
    "df_grp2=df_grp2.rename(columns={\"data\":\"mese\"})\n",
    "df_grp2"
   ]
  },
  {
   "cell_type": "code",
   "execution_count": 215,
   "id": "0f951a51-b378-4c28-ab28-44d82d9b0ebf",
   "metadata": {},
   "outputs": [
    {
     "data": {
      "text/plain": [
       "mese            int64\n",
       "inquinante     object\n",
       "valore        float64\n",
       "dtype: object"
      ]
     },
     "execution_count": 215,
     "metadata": {},
     "output_type": "execute_result"
    }
   ],
   "source": [
    "df_grp2.dtypes"
   ]
  },
  {
   "cell_type": "markdown",
   "id": "e4cca5dc-c997-4a2d-aa30-f491536e9051",
   "metadata": {},
   "source": [
    "## Barplot con tre variabili"
   ]
  },
  {
   "cell_type": "code",
   "execution_count": 93,
   "id": "50c24b33-56fe-4ed6-8cf0-b163444d09c8",
   "metadata": {},
   "outputs": [
    {
     "data": {
      "image/png": "[encoded data removed]",
      "text/plain": [
       "<Figure size 800x500 with 1 Axes>"
      ]
     },
     "metadata": {},
     "output_type": "display_data"
    }
   ],
   "source": [
    "plt.figure(figsize = (8,5))\n",
    "sns.barplot(data=df_grp2, x='mese', y=\"valore\", hue=\"inquinante\")\n",
    "plt.xticks(rotation=30)\n",
    "plt.show()"
   ]
  },
  {
   "cell_type": "markdown",
   "id": "f6fef765-760e-414f-8ef5-dfa0e0b4c4f1",
   "metadata": {},
   "source": [
    "Miglioriamolo. Ad esempio:\n",
    "- i mesi vogliamo che siano espressi con i nomi invece che con i numeri\n",
    "- la legenda vogliamo spostarla fuori dal grafico"
   ]
  },
  {
   "cell_type": "markdown",
   "id": "3c3ca827-460f-4454-acfc-4e98b9fe3aa9",
   "metadata": {},
   "source": [
    "La colonna `mese` dobbiamo trasformarla in datetime perché è numerica."
   ]
  },
  {
   "cell_type": "code",
   "execution_count": 217,
   "id": "fa04c254-a9a3-481d-bd1c-edb1cfe1431e",
   "metadata": {},
   "outputs": [],
   "source": [
    "df_grp2[\"mese\"]=pd.to_datetime(df_grp2[\"mese\"], format=\"%m\")"
   ]
  },
  {
   "cell_type": "markdown",
   "id": "8273116e-74cf-4bd9-9e7a-c888b5e058e5",
   "metadata": {},
   "source": [
    "Ora possiamo ricorrere a una funzione simile alla prcedente `dt.month`, la `dt.month_name()` che restituisce il nome del mese invece del numero.  <br>\n",
    "Poi posizioniamo la legenda fuori dal grafico con i valori dell'opzione `bbox_to_anchor=`"
   ]
  },
  {
   "cell_type": "markdown",
   "id": "fe4ba6ba-e8a4-4a18-afbc-6c68114fa0e7",
   "metadata": {},
   "source": [
    "**NOTA BENE:** Se si vuole posizionare la legenda <ins>in alto a destra appena fuori dal grafico</ins>, la combinazione `\"upper left\", bbox_to_anchor=(1, 1)` fa esattamente questo.\n",
    "\n",
    "Provate altre combinazioni con `upper_left`, `upper_right`, `lower_left`, `lower_right` e diversi valori di `bbox_to_anchor=`"
   ]
  },
  {
   "cell_type": "code",
   "execution_count": 223,
   "id": "7b3cae61-b690-4832-932e-91d601a55e47",
   "metadata": {},
   "outputs": [
    {
     "data": {
      "image/png": "[encoded data removed]",
      "text/plain": [
       "<Figure size 800x500 with 1 Axes>"
      ]
     },
     "metadata": {},
     "output_type": "display_data"
    }
   ],
   "source": [
    "plt.figure(figsize = (8,5))\n",
    "\n",
    "g=sns.barplot(data=df_grp2, x=df_grp2[\"mese\"].dt.month_name(), y=\"valore\", hue=\"inquinante\")\n",
    "\n",
    "plt.xticks(rotation=30)\n",
    "sns.move_legend(g, \"upper left\", bbox_to_anchor=(1, 1))\n",
    "plt.show()"
   ]
  },
  {
   "cell_type": "markdown",
   "id": "2dda6498-1db8-405f-b836-9cc1ab6b36f5",
   "metadata": {},
   "source": [
    "Una nuova variante:\n",
    "- scegliamo una color palette (`sns.color_palette()`)\n",
    "- le barre sovrapposte invece di affiancate (opzione `dodge=False`)"
   ]
  },
  {
   "cell_type": "code",
   "execution_count": 224,
   "id": "332a92fa-fcf4-4bf2-a39a-aa8ca2446ad5",
   "metadata": {},
   "outputs": [
    {
     "data": {
      "image/png": "[encoded data removed]",
      "text/plain": [
       "<Figure size 800x500 with 1 Axes>"
      ]
     },
     "metadata": {},
     "output_type": "display_data"
    }
   ],
   "source": [
    "plt.figure(figsize = (8,5))\n",
    "\n",
    "pal=sns.color_palette(\"magma\")\n",
    "g=sns.barplot(data=df_grp2, x=df_grp2[\"mese\"].dt.month_name(), y=\"valore\", \n",
    "              hue=\"inquinante\", dodge=False, palette=pal)\n",
    "plt.xticks(rotation=30)\n",
    "sns.move_legend(g, \"upper left\", bbox_to_anchor=(1, 1))\n",
    "plt.show()"
   ]
  }
 ],
 "metadata": {
  "kernelspec": {
   "display_name": "Python 3 (ipykernel)",
   "language": "python",
   "name": "python3"
  },
  "language_info": {
   "codemirror_mode": {
    "name": "ipython",
    "version": 3
   },
   "file_extension": ".py",
   "mimetype": "text/x-python",
   "name": "python",
   "nbconvert_exporter": "python",
   "pygments_lexer": "ipython3",
   "version": "3.7.11"
  }
 },
 "nbformat": 4,
 "nbformat_minor": 5
}
