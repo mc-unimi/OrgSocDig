{
 "cells": [
  {
   "cell_type": "markdown",
   "metadata": {},
   "source": [
    "## ESERCIZIO NUMPY"
   ]
  },
  {
   "cell_type": "markdown",
   "metadata": {},
   "source": [
    "### Notebook 02_02 - Reshaping and Array Concatenation and Splitting"
   ]
  },
  {
   "cell_type": "markdown",
   "metadata": {},
   "source": [
    "Creare una lista es4 di 36 valori interi crescenti partendo da 1"
   ]
  },
  {
   "cell_type": "code",
   "execution_count": 39,
   "metadata": {},
   "outputs": [
    {
     "data": {
      "text/plain": [
       "array([ 1,  2,  3,  4,  5,  6,  7,  8,  9, 10, 11, 12, 13, 14, 15, 16, 17,\n",
       "       18, 19, 20, 21, 22, 23, 24, 25, 26, 27, 28, 29, 30, 31, 32, 33, 34,\n",
       "       35, 36])"
      ]
     },
     "execution_count": 39,
     "metadata": {},
     "output_type": "execute_result"
    }
   ],
   "source": [
    "import numpy as np\n",
    "\n",
    "es4 = np.arange(1,37)\n",
    "es4"
   ]
  },
  {
   "cell_type": "markdown",
   "metadata": {},
   "source": [
    "1. Trasformarlo in un array di dimensione 6x6\n",
    "2. Estrarre tre subarray di dimensione 2x2 dalle prime due colonne (sub1, sub2, sub3)\n",
    "3. Concatenarli (usare concatenate) prima usando axis=0 poi con axis=1 "
   ]
  },
  {
   "cell_type": "code",
   "execution_count": 40,
   "metadata": {},
   "outputs": [
    {
     "data": {
      "text/plain": [
       "array([[ 1,  2,  3,  4,  5,  6],\n",
       "       [ 7,  8,  9, 10, 11, 12],\n",
       "       [13, 14, 15, 16, 17, 18],\n",
       "       [19, 20, 21, 22, 23, 24],\n",
       "       [25, 26, 27, 28, 29, 30],\n",
       "       [31, 32, 33, 34, 35, 36]])"
      ]
     },
     "execution_count": 40,
     "metadata": {},
     "output_type": "execute_result"
    }
   ],
   "source": [
    "#punto1\n",
    "es4=es4.reshape(6,6)\n",
    "es4"
   ]
  },
  {
   "cell_type": "code",
   "execution_count": 41,
   "metadata": {},
   "outputs": [],
   "source": [
    "#punto2\n",
    "sub1=es4[:2,:2]\n",
    "sub2=es4[2:4,:2]\n",
    "sub3=es4[4:6,:2]"
   ]
  },
  {
   "cell_type": "code",
   "execution_count": 16,
   "metadata": {},
   "outputs": [
    {
     "data": {
      "text/plain": [
       "array([[ 1,  2],\n",
       "       [ 7,  8],\n",
       "       [13, 14],\n",
       "       [19, 20],\n",
       "       [25, 26],\n",
       "       [31, 32]])"
      ]
     },
     "execution_count": 16,
     "metadata": {},
     "output_type": "execute_result"
    }
   ],
   "source": [
    "#punto3a\n",
    "np.concatenate([sub1, sub2, sub3], axis=0)\n",
    "#per la concatenazione in verticale, axis=0 si può omettere"
   ]
  },
  {
   "cell_type": "code",
   "execution_count": 17,
   "metadata": {},
   "outputs": [
    {
     "data": {
      "text/plain": [
       "array([[ 1,  2, 13, 14, 25, 26],\n",
       "       [ 7,  8, 19, 20, 31, 32]])"
      ]
     },
     "execution_count": 17,
     "metadata": {},
     "output_type": "execute_result"
    }
   ],
   "source": [
    "#punto3b\n",
    "np.concatenate([sub1, sub2, sub3], axis=1)"
   ]
  },
  {
   "cell_type": "markdown",
   "metadata": {},
   "source": [
    "4. Da es4 estrarre un subarray formato dalle prime due righe (sub4)\n",
    "5. Concatenare sub1 a sub4. Usate hstack o vstack?\n",
    "6. Trasformate sub4 da 2x6 a 6x2 (le 2 righe diventano 2 colonne)\n",
    "7. Concatenate sub1, sub2 e sub3 a formare un nuovo array 6x2 (sub5)\n",
    "8. Concatenate sub4 (trasformato) con sub5. hstack o vstack?"
   ]
  },
  {
   "cell_type": "code",
   "execution_count": 31,
   "metadata": {},
   "outputs": [],
   "source": [
    "#punto4\n",
    "sub4=es4[:2,:]"
   ]
  },
  {
   "cell_type": "code",
   "execution_count": 22,
   "metadata": {},
   "outputs": [
    {
     "data": {
      "text/plain": [
       "array([[ 1,  2,  1,  2,  3,  4,  5,  6],\n",
       "       [ 7,  8,  7,  8,  9, 10, 11, 12]])"
      ]
     },
     "execution_count": 22,
     "metadata": {},
     "output_type": "execute_result"
    }
   ],
   "source": [
    "#punto5\n",
    "# provare np.concatenate([sub1, sub4], axis=0), funziona? perché?\n",
    "np.hstack([sub1, sub4])"
   ]
  },
  {
   "cell_type": "code",
   "execution_count": 32,
   "metadata": {},
   "outputs": [
    {
     "name": "stdout",
     "output_type": "stream",
     "text": [
      "sub4 prima di reshape:\n",
      " [[ 1  2  3  4  5  6]\n",
      " [ 7  8  9 10 11 12]] \n",
      "\n",
      "sub4 dopo il reshape:\n",
      " [[ 1  2]\n",
      " [ 3  4]\n",
      " [ 5  6]\n",
      " [ 7  8]\n",
      " [ 9 10]\n",
      " [11 12]]\n"
     ]
    }
   ],
   "source": [
    "#punto 6\n",
    "print(\"sub4 prima di reshape:\\n\", sub4, \"\\n\")\n",
    "sub4=sub4.reshape(6,2)\n",
    "print(\"sub4 dopo il reshape:\\n\", sub4)"
   ]
  },
  {
   "cell_type": "code",
   "execution_count": 35,
   "metadata": {},
   "outputs": [
    {
     "data": {
      "text/plain": [
       "array([[ 1,  2],\n",
       "       [ 7,  8],\n",
       "       [13, 14],\n",
       "       [19, 20],\n",
       "       [25, 26],\n",
       "       [31, 32]])"
      ]
     },
     "execution_count": 35,
     "metadata": {},
     "output_type": "execute_result"
    }
   ],
   "source": [
    "#punto7\n",
    "sub5=np.vstack([sub1,sub2,sub3])\n",
    "sub5"
   ]
  },
  {
   "cell_type": "code",
   "execution_count": 38,
   "metadata": {},
   "outputs": [
    {
     "name": "stdout",
     "output_type": "stream",
     "text": [
      "Concateno verticalmente:\n",
      " [[ 1  2]\n",
      " [ 3  4]\n",
      " [ 5  6]\n",
      " [ 7  8]\n",
      " [ 9 10]\n",
      " [11 12]\n",
      " [ 1  2]\n",
      " [ 7  8]\n",
      " [13 14]\n",
      " [19 20]\n",
      " [25 26]\n",
      " [31 32]] \n",
      "\n",
      "Concateno orizzontalmente:\n",
      " [[ 1  2  1  2]\n",
      " [ 3  4  7  8]\n",
      " [ 5  6 13 14]\n",
      " [ 7  8 19 20]\n",
      " [ 9 10 25 26]\n",
      " [11 12 31 32]]\n"
     ]
    }
   ],
   "source": [
    "#punto8: sub4 è 6x2, sub5 anche è 6x2. Possiamo concatenarli sia orizzontalmente sia verticalmente\n",
    "print(\"Concateno verticalmente:\\n\", np.vstack([sub4,sub5]), \"\\n\")\n",
    "print(\"Concateno orizzontalmente:\\n\", np.hstack([sub4,sub5]))"
   ]
  },
  {
   "cell_type": "code",
   "execution_count": null,
   "metadata": {},
   "outputs": [],
   "source": []
  }
 ],
 "metadata": {
  "kernelspec": {
   "display_name": "Python 3",
   "language": "python",
   "name": "python3"
  },
  "language_info": {
   "codemirror_mode": {
    "name": "ipython",
    "version": 3
   },
   "file_extension": ".py",
   "mimetype": "text/x-python",
   "name": "python",
   "nbconvert_exporter": "python",
   "pygments_lexer": "ipython3",
   "version": "3.8.3"
  }
 },
 "nbformat": 4,
 "nbformat_minor": 4
}
