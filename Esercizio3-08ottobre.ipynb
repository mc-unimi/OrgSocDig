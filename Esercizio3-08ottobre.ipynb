{
 "cells": [
  {
   "cell_type": "markdown",
   "metadata": {},
   "source": [
    "## ESERCIZIO NUMPY"
   ]
  },
  {
   "cell_type": "markdown",
   "metadata": {},
   "source": [
    "### Notebook 02_02 - Sub-array as no copy view"
   ]
  },
  {
   "cell_type": "markdown",
   "metadata": {},
   "source": [
    "Creare un array es3 di valori casuali interi (randint) di dimensione 3x3, con valore massimo (incluso) uguale a 20"
   ]
  },
  {
   "cell_type": "code",
   "execution_count": 21,
   "metadata": {},
   "outputs": [
    {
     "data": {
      "text/plain": [
       "array([[10,  2, 14],\n",
       "       [ 1,  7, 10],\n",
       "       [17,  7, 10]])"
      ]
     },
     "execution_count": 21,
     "metadata": {},
     "output_type": "execute_result"
    }
   ],
   "source": [
    "import numpy as np\n",
    "\n",
    "es3 = np.random.randint(21, size=(3,3))\n",
    "es3"
   ]
  },
  {
   "cell_type": "markdown",
   "metadata": {},
   "source": [
    "1. estrarre il subarray formato dalla seconda riga (es3_sub) come vista e visualizzarlo\n",
    "2. moltiplicare per 3 tutti gli elementi della seconda colonna di es3\n",
    "3. visualizzare es3_sub. È cambiato rispetto a prima?\n",
    "4. estrarre il subarray formato dalla terza colonna di es3 come copia (es3_sub_copy)\n",
    "5. sommare 10 a tutti gli elementi di es3_sub_copy e visualizzare\n",
    "6. visualizzare es3. Contiene la modifica del punto 6?"
   ]
  },
  {
   "cell_type": "code",
   "execution_count": 29,
   "metadata": {},
   "outputs": [
    {
     "data": {
      "text/plain": [
       "array([ 1, 63, 10])"
      ]
     },
     "execution_count": 29,
     "metadata": {},
     "output_type": "execute_result"
    }
   ],
   "source": [
    "#punto1\n",
    "es3_sub=es3[1,:]\n",
    "#si può usare anche la forma compatta es3[1]\n",
    "es3_sub"
   ]
  },
  {
   "cell_type": "code",
   "execution_count": 30,
   "metadata": {},
   "outputs": [
    {
     "name": "stdout",
     "output_type": "stream",
     "text": [
      "valori della colonna prima della moltiplicazione [18 63 63]\n",
      "valori della colonna dopo la moltiplicazione [ 54 189 189]\n"
     ]
    }
   ],
   "source": [
    "#punto2\n",
    "print(\"valori della colonna prima della moltiplicazione\",es3[:,1])\n",
    "es3[:,1]=es3[:,1]*3\n",
    "print(\"valori della colonna dopo la moltiplicazione\",es3[:,1])"
   ]
  },
  {
   "cell_type": "code",
   "execution_count": 27,
   "metadata": {},
   "outputs": [
    {
     "data": {
      "text/plain": [
       "array([ 1, 63, 10])"
      ]
     },
     "execution_count": 27,
     "metadata": {},
     "output_type": "execute_result"
    }
   ],
   "source": [
    "#punto3\n",
    "es3_sub\n",
    "#È cambiato? SÌ"
   ]
  },
  {
   "cell_type": "code",
   "execution_count": 31,
   "metadata": {},
   "outputs": [
    {
     "data": {
      "text/plain": [
       "array([14, 10, 10])"
      ]
     },
     "execution_count": 31,
     "metadata": {},
     "output_type": "execute_result"
    }
   ],
   "source": [
    "#punto4\n",
    "es3_sub_copy=es3[:,2].copy()\n",
    "es3_sub_copy"
   ]
  },
  {
   "cell_type": "code",
   "execution_count": 32,
   "metadata": {},
   "outputs": [
    {
     "data": {
      "text/plain": [
       "array([24, 20, 20])"
      ]
     },
     "execution_count": 32,
     "metadata": {},
     "output_type": "execute_result"
    }
   ],
   "source": [
    "#punto5\n",
    "es3_sub_copy=es3_sub_copy+10\n",
    "es3_sub_copy"
   ]
  },
  {
   "cell_type": "code",
   "execution_count": 33,
   "metadata": {},
   "outputs": [
    {
     "data": {
      "text/plain": [
       "array([[ 10,  54,  14],\n",
       "       [  1, 189,  10],\n",
       "       [ 17, 189,  10]])"
      ]
     },
     "execution_count": 33,
     "metadata": {},
     "output_type": "execute_result"
    }
   ],
   "source": [
    "#punto6\n",
    "es3\n",
    "#Contiene la modifica fatta a es3_sub_copy? NO"
   ]
  },
  {
   "cell_type": "code",
   "execution_count": null,
   "metadata": {},
   "outputs": [],
   "source": []
  }
 ],
 "metadata": {
  "kernelspec": {
   "display_name": "Python 3",
   "language": "python",
   "name": "python3"
  },
  "language_info": {
   "codemirror_mode": {
    "name": "ipython",
    "version": 3
   },
   "file_extension": ".py",
   "mimetype": "text/x-python",
   "name": "python",
   "nbconvert_exporter": "python",
   "pygments_lexer": "ipython3",
   "version": "3.8.3"
  }
 },
 "nbformat": 4,
 "nbformat_minor": 4
}
